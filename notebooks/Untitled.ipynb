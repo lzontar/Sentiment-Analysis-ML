{
 "cells": [
  {
   "cell_type": "code",
   "execution_count": 7,
   "id": "722c935a-7adb-4f05-9b87-d36d4ecd6598",
   "metadata": {},
   "outputs": [],
   "source": [
    "import pandas as pd\n",
    "import numpy as np\n",
    "\n",
    "import sys\n",
    "sys.path.insert(0,'..')\n",
    "\n",
    "import util.helper as helper"
   ]
  },
  {
   "cell_type": "code",
   "execution_count": 8,
   "id": "dc089110-888f-4e6e-bffc-1e67c81b7f9d",
   "metadata": {},
   "outputs": [
    {
     "name": "stdout",
     "output_type": "stream",
     "text": [
      "Test successful!\n"
     ]
    }
   ],
   "source": [
    "helper.test_print()"
   ]
  }
 ],
 "metadata": {
  "kernelspec": {
   "display_name": "Sentiment Analysis ML",
   "language": "python",
   "name": "sentiment-analysis-ml"
  },
  "language_info": {
   "codemirror_mode": {
    "name": "ipython",
    "version": 3
   },
   "file_extension": ".py",
   "mimetype": "text/x-python",
   "name": "python",
   "nbconvert_exporter": "python",
   "pygments_lexer": "ipython3",
   "version": "3.9.7"
  }
 },
 "nbformat": 4,
 "nbformat_minor": 5
}
